{
 "cells": [
  {
   "cell_type": "code",
   "execution_count": 1,
   "id": "greenhouse-theta",
   "metadata": {},
   "outputs": [],
   "source": [
    "import os\n",
    "import glob\n",
    "import pandas as pd\n",
    "import numpy as np\n",
    "import os\n",
    "import json\n",
    "import argparse\n",
    "from keras.layers.core import Dense, Dropout\n",
    "from keras.layers.recurrent import LSTM\n",
    "from keras.models import Sequential\n",
    "from keras.callbacks import LambdaCallback"
   ]
  },
  {
   "cell_type": "code",
   "execution_count": 2,
   "id": "looking-mother",
   "metadata": {},
   "outputs": [],
   "source": [
    "def get_dataframe(dataset_dir):\n",
    "    \"\"\"\n",
    "    :param dataset_dir: Path to directory containing dataset as a .csv file\n",
    "    :return: Panda DataFrame\n",
    "    \"\"\"\n",
    "\n",
    "    # use the csv first file in the dataset directory\n",
    "    dataset_path = dataset_dir #glob.glob(os.path.join(dataset_dir, \"*.csv\"))[0]\n",
    "\n",
    "    my_data = pd.read_csv(dataset_path, error_bad_lines=False)\n",
    "    df = pd.DataFrame(my_data)\n",
    "\n",
    "    column_names = list(df)\n",
    "    if 'Demand' in column_names:\n",
    "        # RTE dataset format\n",
    "        df = df.filter(items=['Day', 'Month', 'Hours', 'Temperature', 'Demand'])\n",
    "        return df, 'rte'\n",
    "    elif 'SYSLoad' in column_names:\n",
    "        # ERCOT dataset format.\n",
    "        df = df.filter(items=['Day', 'Month', 'Minutes', 'SYSLoad'])\n",
    "        return df, 'ercot'\n",
    "    else:\n",
    "        raise Exception('Unknown dataset format with columns: {}'.format(column_names))\n",
    "        \n",
    "def feature_extraction(dataset_dir):\n",
    "    df, dataset_format = get_dataframe(dataset_dir)\n",
    "    \n",
    "    print(dataset_format)\n",
    "    values = df.values\n",
    "    minima = np.amin(values[:, -1])\n",
    "    maxima = np.amax(values[:, -1])\n",
    "    scaling_parameter = maxima - minima\n",
    "\n",
    "    if dataset_format == 'rte':\n",
    "        values[:, 0] = (values[:, 0] - np.amin(values[:, 0])) / (np.amax(values[:, 0]) - np.amin(values[:, 0]))\n",
    "        values[:, 1] = (values[:, 1] - np.amin(values[:, 1])) / (np.amax(values[:, 1]) - np.amin(values[:, 1]))\n",
    "        values[:, 2] = (values[:, 2] - np.amin(values[:, 2])) / (np.amax(values[:, 2]) - np.amin(values[:, 2]))\n",
    "        values[:, 3] = (values[:, 3] - np.amin(values[:, 3])) / (np.amax(values[:, 3]) - np.amin(values[:, 3]))\n",
    "        values[:, 4] = (values[:, 4] - minima) / scaling_parameter\n",
    "    elif dataset_format == 'ercot':\n",
    "        values[:, 0] = (values[:, 0] - np.amin(values[:, 0])) / (np.amax(values[:, 0]) - np.amin(values[:, 0]))\n",
    "        values[:, 1] = (values[:, 1] - np.amin(values[:, 1])) / (np.amax(values[:, 1]) - np.amin(values[:, 1]))\n",
    "        values[:, 2] = (values[:, 2] - np.amin(values[:, 2])) / (np.amax(values[:, 2]) - np.amin(values[:, 2]))\n",
    "        values[:, 3] = (values[:, 3] - minima) / scaling_parameter\n",
    "\n",
    "    df = pd.DataFrame(values)\n",
    "    return df, minima, maxima, scaling_parameter"
   ]
  },
  {
   "cell_type": "code",
   "execution_count": 4,
   "id": "conceptual-sleeve",
   "metadata": {},
   "outputs": [
    {
     "name": "stdout",
     "output_type": "stream",
     "text": [
      "rte\n"
     ]
    }
   ],
   "source": [
    "def split_features(features_data_frame, seq_len):\n",
    "   amount_of_features = len(features_data_frame.columns)\n",
    "   data = features_data_frame.values\n",
    "   sequence_length = seq_len + 1\n",
    "   result = []\n",
    "   for index in range(len(data) - sequence_length):\n",
    "       result.append(data[index: index + sequence_length])\n",
    "\n",
    "   result = np.array(result)\n",
    "   row = round(0.8 * result.shape[0])\n",
    "   train = result[:int(row), :]\n",
    "   x_train = train[:, :-1]\n",
    "   y_train = train[:, -1][:, -1]\n",
    "   x_test = result[int(row):, :-1]\n",
    "   y_test = result[int(row):, -1][:, -1]\n",
    "   x_train = np.reshape(x_train, (x_train.shape[0], x_train.shape[1], amount_of_features))\n",
    "   x_test = np.reshape(x_test, (x_test.shape[0], x_test.shape[1], amount_of_features))\n",
    "   return [x_train, y_train, x_test, y_test]\n",
    "\n",
    "# ...\n",
    "\n",
    "window = 5\n",
    "features, minima, maxima, scaling_parameter = feature_extraction('Dataset.csv')\n",
    "X_train, y_train, X_test, y_test = split_features(features[::-1], window)"
   ]
  },
  {
   "cell_type": "code",
   "execution_count": 5,
   "id": "italian-catalog",
   "metadata": {},
   "outputs": [],
   "source": [
    "def build_single_lstm(layers):\n",
    "    model = Sequential()\n",
    "    model.add(LSTM(50, input_shape=(layers[1], layers[0]), return_sequences=False))\n",
    "    model.add(Dense(1, activation=\"relu\", kernel_initializer=\"uniform\"))\n",
    "    model.compile(loss=\"mse\", optimizer=\"rmsprop\", metrics=[\"accuracy\"])\n",
    "    return model\n",
    "\n",
    "\n",
    "def build_double_lstm(layers):\n",
    "    dropout = 0.2\n",
    "    model = Sequential()\n",
    "    model.add(LSTM(128, input_shape=(layers[1], layers[0]), return_sequences=True))\n",
    "    model.add(Dropout(dropout))\n",
    "    model.add(LSTM(64, input_shape=(layers[1], layers[0]), return_sequences=False))\n",
    "    model.add(Dropout(dropout))\n",
    "    model.add(Dense(16, activation=\"relu\", kernel_initializer=\"uniform\"))\n",
    "    model.add(Dense(1, activation=\"relu\", kernel_initializer=\"uniform\"))\n",
    "    model.compile(loss=\"mse\", optimizer=\"adam\", metrics=[\"accuracy\"])\n",
    "    return model\n",
    "\n",
    "model_architectures = {\n",
    "    \"single_lstm\": build_single_lstm,\n",
    "    \"double_lstm\": build_double_lstm,\n",
    "}"
   ]
  },
  {
   "cell_type": "code",
   "execution_count": 7,
   "id": "invalid-shuttle",
   "metadata": {},
   "outputs": [],
   "source": [
    "# figure out which model architecture to use\n",
    "arch = 'single_lstm' # another option ---> double_lstm\n",
    "assert arch in model_architectures, \"Unknown model architecture '%s'.\" % arch\n",
    "builder = model_architectures[arch]\n",
    "\n",
    "model = builder([len(features.columns), window, 1])"
   ]
  },
  {
   "cell_type": "code",
   "execution_count": null,
   "id": "seventh-whole",
   "metadata": {},
   "outputs": [],
   "source": [
    "model.fit(\n",
    "    X_train,\n",
    "    y_train,\n",
    "    batch_size=4,\n",
    "    epochs=5,\n",
    "    validation_split=0.2,\n",
    "    #callbacks=[json_logging_callback],\n",
    "    verbose=1)\n",
    "\n",
    "# serialize model to JSON\n",
    "model_json = model.to_json()\n",
    "with open(os.path.join(\"model-layout.json\"), \"w\") as json_file:\n",
    "    json_file.write(model_json)\n",
    "\n",
    "# serialize weights to HDF5\n",
    "model.save_weights(os.path.join(\"model-weights.h5\"))\n",
    "print(\"Saved model to disk\")"
   ]
  },
  {
   "cell_type": "markdown",
   "id": "crucial-thousand",
   "metadata": {},
   "source": [
    "**Prediction**"
   ]
  },
  {
   "cell_type": "code",
   "execution_count": 13,
   "id": "progressive-party",
   "metadata": {},
   "outputs": [],
   "source": [
    "from math import sqrt\n",
    "from sklearn.metrics import mean_absolute_error\n",
    "import matplotlib.pyplot as pyplot\n",
    "\n",
    "def mean_absolute_percentage_error(y_true, y_pred):\n",
    "   y_true, y_pred = np.array(y_true), np.array(y_pred)\n",
    "   return np.mean(np.abs((y_true - y_pred) / y_true)) * 100\n",
    "\n",
    "predicted = model.predict(X_test)\n",
    "actual = y_test\n",
    "\n",
    "predicted = (predicted * scaling_parameter) + minima\n",
    "actual = (actual * scaling_parameter) + minima\n",
    "\n",
    "mape = sqrt(mean_absolute_percentage_error(predicted, actual))\n",
    "mse = mean_absolute_error(actual, predicted)"
   ]
  },
  {
   "cell_type": "code",
   "execution_count": 19,
   "id": "emerging-student",
   "metadata": {},
   "outputs": [
    {
     "data": {
      "image/png": "[encoded data removed]",
      "text/plain": [
       "<Figure size 432x288 with 1 Axes>"
      ]
     },
     "metadata": {
      "needs_background": "light"
     },
     "output_type": "display_data"
    }
   ],
   "source": [
    "pyplot.plot(actual[:24], label='Actual', color=\"blue\")\n",
    "pyplot.plot(predicted[:24], label='Our_Model', color=\"red\")\n",
    "pyplot.ylabel(\"Load(MW)\")\n",
    "pyplot.title(\"Actual Vs Predicted Results\")\n",
    "pyplot.legend()\n",
    "pyplot.show()"
   ]
  },
  {
   "cell_type": "code",
   "execution_count": null,
   "id": "vietnamese-possibility",
   "metadata": {},
   "outputs": [],
   "source": []
  }
 ],
 "metadata": {
  "kernelspec": {
   "display_name": "vm_torch",
   "language": "python",
   "name": "vm_torch"
  },
  "language_info": {
   "codemirror_mode": {
    "name": "ipython",
    "version": 3
   },
   "file_extension": ".py",
   "mimetype": "text/x-python",
   "name": "python",
   "nbconvert_exporter": "python",
   "pygments_lexer": "ipython3",
   "version": "3.6.9"
  }
 },
 "nbformat": 4,
 "nbformat_minor": 5
}
